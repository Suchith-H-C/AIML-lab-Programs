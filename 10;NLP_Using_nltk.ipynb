{
  "nbformat": 4,
  "nbformat_minor": 0,
  "metadata": {
    "colab": {
      "provenance": []
    },
    "kernelspec": {
      "name": "python3",
      "display_name": "Python 3"
    },
    "language_info": {
      "name": "python"
    }
  },
  "cells": [
    {
      "cell_type": "code",
      "execution_count": 3,
      "metadata": {
        "colab": {
          "base_uri": "https://localhost:8080/"
        },
        "id": "_AWjuK6kGdaj",
        "outputId": "8e689fa2-76c1-40cf-eb55-b1425ed6f064"
      },
      "outputs": [
        {
          "output_type": "stream",
          "name": "stderr",
          "text": [
            "[nltk_data] Downloading package punkt_tab to /root/nltk_data...\n",
            "[nltk_data]   Package punkt_tab is already up-to-date!\n",
            "[nltk_data] Downloading package averaged_perceptron_tagger_eng to\n",
            "[nltk_data]     /root/nltk_data...\n",
            "[nltk_data]   Unzipping taggers/averaged_perceptron_tagger_eng.zip.\n",
            "[nltk_data] Downloading package punkt to /root/nltk_data...\n",
            "[nltk_data]   Package punkt is already up-to-date!\n",
            "[nltk_data] Downloading package stopwords to /root/nltk_data...\n",
            "[nltk_data]   Package stopwords is already up-to-date!\n",
            "[nltk_data] Downloading package averaged_perceptron_tagger to\n",
            "[nltk_data]     /root/nltk_data...\n",
            "[nltk_data]   Package averaged_perceptron_tagger is already up-to-\n",
            "[nltk_data]       date!\n"
          ]
        },
        {
          "output_type": "stream",
          "name": "stdout",
          "text": [
            "Words Tokenization:\n",
            "['NLTK', 'is', 'a', 'leading', 'platform', 'for', 'building', 'Python', 'programs', 'to', 'work', 'with', 'human', 'language', 'data', '.', 'It', 'provides', 'easy-to-use', 'interfaces', 'to', 'over', '50', 'corpora', 'and', 'lexical', 'resources', '.']\n",
            "\n",
            "Sentence Tokenization:\n",
            "['NLTK is a leading platform for building Python programs to work with human language data.', 'It provides easy-to-use interfaces to over 50 corpora and lexical resources.']\n",
            "\n",
            "After Stopword Removal:\n",
            "['NLTK', 'leading', 'platform', 'building', 'Python', 'programs', 'work', 'human', 'language', 'data', '.', 'provides', 'easy-to-use', 'interfaces', '50', 'corpora', 'lexical', 'resources', '.']\n",
            "\n",
            "After Stemming:\n",
            "['nltk', 'lead', 'platform', 'build', 'python', 'program', 'work', 'human', 'languag', 'data', '.', 'provid', 'easy-to-us', 'interfac', '50', 'corpora', 'lexic', 'resourc', '.']\n",
            "\n",
            "Parts of Speech Tagging:\n",
            "[('NLTK', 'NNP'), ('leading', 'VBG'), ('platform', 'NN'), ('building', 'NN'), ('Python', 'NNP'), ('programs', 'NNS'), ('work', 'VBP'), ('human', 'JJ'), ('language', 'NN'), ('data', 'NNS'), ('.', '.'), ('provides', 'VBZ'), ('easy-to-use', 'JJ'), ('interfaces', 'NNS'), ('50', 'CD'), ('corpora', 'NNS'), ('lexical', 'JJ'), ('resources', 'NNS'), ('.', '.')]\n"
          ]
        }
      ],
      "source": [
        "import nltk\n",
        "nltk.download('punkt_tab')\n",
        "nltk.download('averaged_perceptron_tagger_eng')\n",
        "from nltk.tokenize import word_tokenize, sent_tokenize\n",
        "from nltk.corpus import stopwords\n",
        "from nltk.stem import PorterStemmer\n",
        "from nltk import pos_tag\n",
        "from nltk import download\n",
        "\n",
        "# Download necessary NLTK datasets\n",
        "download('punkt')  # For tokenization\n",
        "download('stopwords')  # For stop words\n",
        "download('averaged_perceptron_tagger')  # For POS tagging\n",
        "\n",
        "# Sample text\n",
        "text = \"NLTK is a leading platform for building Python programs to work with human language data. It provides easy-to-use interfaces to over 50 corpora and lexical resources.\"\n",
        "\n",
        "# 1. Tokenization by Word\n",
        "words = word_tokenize(text)\n",
        "print(\"Words Tokenization:\")\n",
        "print(words)\n",
        "print()\n",
        "\n",
        "# 2. Tokenization by Sentence\n",
        "sentences = sent_tokenize(text)\n",
        "print(\"Sentence Tokenization:\")\n",
        "print(sentences)\n",
        "print()\n",
        "\n",
        "# 3. Eliminating Stop Words\n",
        "stop_words = set(stopwords.words('english'))\n",
        "filtered_words = [word for word in words if word.lower() not in stop_words]\n",
        "print(\"After Stopword Removal:\")\n",
        "print(filtered_words)\n",
        "print()\n",
        "\n",
        "# 4. Stemming\n",
        "stemmer = PorterStemmer()\n",
        "stemmed_words = [stemmer.stem(word) for word in filtered_words]\n",
        "print(\"After Stemming:\")\n",
        "print(stemmed_words)\n",
        "print()\n",
        "\n",
        "# 5. Parts of Speech Tagging\n",
        "pos_tags = pos_tag(filtered_words)\n",
        "print(\"Parts of Speech Tagging:\")\n",
        "print(pos_tags)\n"
      ]
    }
  ]
}