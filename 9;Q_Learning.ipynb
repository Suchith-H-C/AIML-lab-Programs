{
  "nbformat": 4,
  "nbformat_minor": 0,
  "metadata": {
    "colab": {
      "provenance": []
    },
    "kernelspec": {
      "name": "python3",
      "display_name": "Python 3"
    },
    "language_info": {
      "name": "python"
    }
  },
  "cells": [
    {
      "cell_type": "code",
      "execution_count": 1,
      "metadata": {
        "colab": {
          "base_uri": "https://localhost:8080/",
          "height": 634
        },
        "id": "2fzZ8UHewnJu",
        "outputId": "05dd1a7d-240b-4a7d-9999-893e3faba9af"
      },
      "outputs": [
        {
          "output_type": "stream",
          "name": "stdout",
          "text": [
            "Episode 100/1000, Total Reward: 93\n",
            "Episode 200/1000, Total Reward: 90\n",
            "Episode 300/1000, Total Reward: 89\n",
            "Episode 400/1000, Total Reward: 93\n",
            "Episode 500/1000, Total Reward: 89\n",
            "Episode 600/1000, Total Reward: 91\n",
            "Episode 700/1000, Total Reward: 93\n",
            "Episode 800/1000, Total Reward: 92\n",
            "Episode 900/1000, Total Reward: 91\n",
            "Episode 1000/1000, Total Reward: 86\n"
          ]
        },
        {
          "output_type": "display_data",
          "data": {
            "text/plain": [
              "<Figure size 640x480 with 2 Axes>"
            ],
            "image/png": "[encoded data removed]"
          },
          "metadata": {}
        }
      ],
      "source": [
        "import numpy as np\n",
        "import random\n",
        "import matplotlib.pyplot as plt\n",
        "\n",
        "# Environment setup\n",
        "grid_size = 5  # 5x5 grid\n",
        "goal_position = (4, 4)  # The goal is at the bottom-right corner\n",
        "start_position = (0, 0)  # Starting at the top-left corner\n",
        "walls = [(1, 1), (2, 2), (3, 3)]  # Some obstacles (walls)\n",
        "\n",
        "# Actions: up, down, left, right\n",
        "actions = ['up', 'down', 'left', 'right']\n",
        "action_map = {\n",
        "    'up': (-1, 0),\n",
        "    'down': (1, 0),\n",
        "    'left': (0, -1),\n",
        "    'right': (0, 1)\n",
        "}\n",
        "\n",
        "# Q-learning parameters\n",
        "alpha = 0.1  # Learning rate\n",
        "gamma = 0.9  # Discount factor\n",
        "epsilon = 0.2  # Exploration rate\n",
        "episodes = 1000  # Number of training episodes\n",
        "\n",
        "# Initialize Q-table\n",
        "Q = np.zeros((grid_size, grid_size, len(actions)))  # Q(s, a) table\n",
        "\n",
        "# Define the reward structure\n",
        "def get_reward(position):\n",
        "    if position == goal_position:\n",
        "        return 100  # Reward for reaching the goal\n",
        "    elif position in walls:\n",
        "        return -10  # Penalty for hitting a wall\n",
        "    else:\n",
        "        return -1  # Small penalty for each move\n",
        "\n",
        "# Choose an action using epsilon-greedy strategy\n",
        "def choose_action(state):\n",
        "    if random.uniform(0, 1) < epsilon:\n",
        "        return random.choice(range(len(actions)))  # Exploration\n",
        "    else:\n",
        "        return np.argmax(Q[state[0], state[1]])  # Exploitation\n",
        "\n",
        "# Move the agent in the grid based on the chosen action\n",
        "def move(state, action):\n",
        "    new_state = (state[0] + action_map[actions[action]][0],\n",
        "                 state[1] + action_map[actions[action]][1])\n",
        "    # Check if new state is within bounds\n",
        "    new_state = (max(0, min(grid_size-1, new_state[0])), max(0, min(grid_size-1, new_state[1])))\n",
        "    if new_state in walls:\n",
        "        return state  # If there's a wall, stay in the same position\n",
        "    return new_state\n",
        "\n",
        "# Training the agent using Q-learning\n",
        "def train():\n",
        "    for episode in range(episodes):\n",
        "        state = start_position\n",
        "        total_reward = 0\n",
        "        while state != goal_position:\n",
        "            action = choose_action(state)\n",
        "            next_state = move(state, action)\n",
        "            reward = get_reward(next_state)\n",
        "            total_reward += reward\n",
        "            # Q-learning update rule\n",
        "            Q[state[0], state[1], action] += alpha * (reward + gamma * np.max(Q[next_state[0], next_state[1]]) - Q[state[0], state[1], action])\n",
        "            state = next_state\n",
        "        if (episode + 1) % 100 == 0:\n",
        "            print(f\"Episode {episode + 1}/{episodes}, Total Reward: {total_reward}\")\n",
        "\n",
        "# Testing the learned policy\n",
        "def test():\n",
        "    state = start_position\n",
        "    path = [state]\n",
        "    while state != goal_position:\n",
        "        action = np.argmax(Q[state[0], state[1]])  # Choose the best action based on Q-table\n",
        "        state = move(state, action)\n",
        "        path.append(state)\n",
        "    return path\n",
        "\n",
        "# Visualize the grid and the agent's path\n",
        "def visualize(path):\n",
        "    grid = np.zeros((grid_size, grid_size))\n",
        "    for (i, j) in walls:\n",
        "        grid[i, j] = -1  # Mark walls\n",
        "    grid[goal_position[0], goal_position[1]] = 2  # Mark goal\n",
        "    grid[start_position[0], start_position[1]] = 1  # Mark start\n",
        "\n",
        "    # Plot the grid\n",
        "    plt.imshow(grid, cmap='hot', interpolation='nearest')\n",
        "    plt.colorbar()\n",
        "    path_x, path_y = zip(*path)\n",
        "    plt.plot(path_y, path_x, marker='o', color='cyan', label='Path')\n",
        "    plt.title(\"Q-learning Path\")\n",
        "    plt.legend()\n",
        "    plt.show()\n",
        "\n",
        "# Train the agent\n",
        "train()\n",
        "\n",
        "# Test the learned policy\n",
        "path = test()\n",
        "\n",
        "# Visualize the agent's path\n",
        "visualize(path)\n"
      ]
    }
  ]
}